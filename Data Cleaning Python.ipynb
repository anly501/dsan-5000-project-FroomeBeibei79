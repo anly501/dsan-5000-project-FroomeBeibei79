{
  "cells": [
    {
      "cell_type": "raw",
      "metadata": {},
      "source": [
        "---\n",
        "title: \"Untitled\"\n",
        "format: html\n",
        "---"
      ]
    },
    {
      "cell_type": "markdown",
      "metadata": {},
      "source": [
        "\n",
        "First I use NewsAPI to get text data from NewsAPI on different key words in terms of driver behavior analysis\n",
        "\n",
        "The key words I used are: driving behavior, distracted driving, driver risk assessment, driver profilling"
      ]
    },
    {
      "cell_type": "raw",
      "metadata": {},
      "source": [
        "import requests\n",
        "import json\n",
        "import re\n",
        "import os\n",
        "import pandas as pd\n",
        "from sklearn.feature_extraction.text import CountVectorizer\n",
        "\n",
        "baseURL = \"https://newsapi.org/v2/everything?\"\n",
        "total_requests=1\n",
        "verbose=True\n",
        "\n",
        "API_KEY='2133663c4ec54af8a9839f0c500203de'\n",
        "TOPIC1 = 'driver profiling'\n",
        "\n",
        "URLpost1 = {'apiKey': API_KEY,\n",
        "            'q': '+'+TOPIC1,\n",
        "            'sortBy': 'relevancy',\n",
        "            'totalRequests': 1}\n",
        "\n",
        "print(baseURL)\n",
        "\n",
        "response1 = requests.get(baseURL, URLpost1) \n",
        "\n",
        "response1 = response1.json() \n",
        "\n",
        "print(json.dumps(response1, indent=2))\n",
        "\n",
        "from datetime import datetime\n",
        "timestamp = datetime.now().strftime(\"%Y-%m-%d-H%H-M%M-S%S\")\n",
        "\n",
        "output_file_path = os.path.join(\"data\", f'{timestamp}-topic1-newapi-raw-data-driver-profilling.json')\n",
        "\n",
        "with open(output_file_path, 'w') as outfile:\n",
        "    json.dump(response1, outfile, indent=4)\n",
        "```"
      ]
    }
  ],
  "metadata": {
    "kernelspec": {
      "display_name": "Python 3",
      "language": "python",
      "name": "python3"
    }
  },
  "nbformat": 4,
  "nbformat_minor": 4
}
