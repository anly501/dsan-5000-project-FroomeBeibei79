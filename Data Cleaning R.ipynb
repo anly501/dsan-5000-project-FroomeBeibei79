{
 "cells": [
  {
   "cell_type": "markdown",
   "metadata": {},
   "source": [
    "Below is the code to clean the gender dataset"
   ]
  },
  {
   "cell_type": "code",
   "execution_count": null,
   "metadata": {
    "vscode": {
     "languageId": "plaintext"
    }
   },
   "outputs": [],
   "source": [
    "library(readxl)\n",
    "library(tidyverse)\n",
    "gender <- read_excel(\"data/dl220.xls\")\n",
    "gender <- gender[-(1:2),]\n",
    "colnames(gender) <- gender[1,]\n",
    "gender <- gender[-1,]\n",
    "gender <- gender[1:(nrow(gender) -4),]\n",
    "colnames(gender)[1] <- \"Year\"\n",
    "gender <- gender[-1,]\n",
    "colnames1 <- paste0(colnames(gender), unlist(gender[1,]))\n",
    "colnames(gender) <- colnames1\n",
    "gender <- gender[-1,]\n",
    "\n",
    "names <- which(duplicated(colnames(gender)))\n",
    "for (col_index in names){\n",
    "  colnames(gender)[col_index] <- paste0(colnames(gender)[col_index], \"_\", col_index)\n",
    "}"
   ]
  }
 ],
 "metadata": {
  "language_info": {
   "name": "python"
  },
  "orig_nbformat": 4
 },
 "nbformat": 4,
 "nbformat_minor": 2
}
